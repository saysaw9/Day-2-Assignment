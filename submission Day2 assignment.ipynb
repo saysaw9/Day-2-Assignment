{
 "cells": [
  {
   "cell_type": "raw",
   "metadata": {},
   "source": [
    "Q1. Create an empty list. Accept 10 numbers from the user and append to it the list if it is an even number"
   ]
  },
  {
   "cell_type": "code",
   "execution_count": 1,
   "metadata": {},
   "outputs": [
    {
     "name": "stdout",
     "output_type": "stream",
     "text": [
      "please enter total no. of list elements:5\n",
      "please enter the value of 1 element:20\n",
      "please enter the value of 2 element:15\n",
      "please enter the value of 3 element:35\n",
      "please enter the value of 4 element:40\n",
      "please enter the value of 5 element:16\n",
      "\n",
      " even numbers in the list are: \n",
      "20 40 16 "
     ]
    }
   ],
   "source": [
    "list1 = []\n",
    "num = int(input(\"please enter total no. of list elements:\"))\n",
    "for i in range(1, num+1):\n",
    "    value = int(input(\"please enter the value of %d element:\" %i))\n",
    "    list1.append(value)\n",
    "print(\"\\n even numbers in the list are: \")\n",
    "for j in range(num):\n",
    "    if (list1[j] % 2 == 0):\n",
    "        print(list1[j], end = ' ')"
   ]
  },
  {
   "cell_type": "raw",
   "metadata": {},
   "source": [
    "Q2.  LIST COMPREHENSION\n",
    "Suppose, we want to separate the letters of the word human and add the letters as items of a list. \n",
    "The first thing that comes in mind would be using for loop."
   ]
  },
  {
   "cell_type": "code",
   "execution_count": 3,
   "metadata": {},
   "outputs": [
    {
     "name": "stdout",
     "output_type": "stream",
     "text": [
      "['h', 'u', 'm', 'a', 'n']\n"
     ]
    }
   ],
   "source": [
    "h_letters = []\n",
    "\n",
    "for letter in 'human':\n",
    "    h_letters.append(letter)\n",
    "\n",
    "print(h_letters)"
   ]
  },
  {
   "cell_type": "raw",
   "metadata": {},
   "source": [
    "However, Python has an easier way to solve this issue using List Comprehension. \n",
    "List comprehension is an elegant way to define and create lists based on existing lists.\n",
    "The above program can be written using list comprehensions."
   ]
  },
  {
   "cell_type": "code",
   "execution_count": 4,
   "metadata": {},
   "outputs": [
    {
     "name": "stdout",
     "output_type": "stream",
     "text": [
      "['h', 'u', 'm', 'a', 'n']\n"
     ]
    }
   ],
   "source": [
    "#The above program can be written using list comprehensions.\n",
    "h_letters = [ letter for letter in 'human' ]\n",
    "print( h_letters)"
   ]
  },
  {
   "cell_type": "raw",
   "metadata": {},
   "source": [
    "Q3. given a number n, you have to write a program that generates a dictionary d which\n",
    "contains (i, i*i), where i is from 1 to n (both included).\n",
    "Then you have to just print this dictionary d.\n",
    "\n",
    "\n"
   ]
  },
  {
   "cell_type": "code",
   "execution_count": 1,
   "metadata": {},
   "outputs": [
    {
     "name": "stdout",
     "output_type": "stream",
     "text": [
      "Enter a number: 5\n",
      "{1: 1, 2: 4, 3: 9, 4: 16, 5: 25}\n"
     ]
    }
   ],
   "source": [
    "n = int(input(\"Enter a number: \"))\n",
    "d = dict()\n",
    "for x in range (1, n+1):\n",
    "    d[x] = x*x\n",
    "print(d)"
   ]
  },
  {
   "cell_type": "raw",
   "metadata": {},
   "source": [
    "Q4. ROBOT'S DISTANCE"
   ]
  },
  {
   "cell_type": "code",
   "execution_count": 2,
   "metadata": {},
   "outputs": [
    {
     "name": "stdout",
     "output_type": "stream",
     "text": [
      "4\n",
      "UP 5\n",
      "DOWN 3\n",
      "LEFT 3\n",
      "RIGHT 2\n",
      "2\n"
     ]
    }
   ],
   "source": [
    "pstn = {\"x\":0,\"y\":0}\n",
    "num = int(input())\n",
    "for _ in range(num):\n",
    "    command = input().split(\" \")\n",
    "if command[0] == \"UP\":\n",
    "    pstn[\"y\"] += int(command[1])\n",
    "if command[0] == \"DOWN\":\n",
    "    pstn[\"y\"] -= int(command[1])\n",
    "if command[0] == \"LEFT\":\n",
    "    pstn[\"x\"] -= int(command[1])\n",
    "if command[0] == \"RIGHT\":\n",
    "    pstn[\"x\"] += int(command[1])\n",
    "\n",
    "print(int(round((pstn[\"x\"]**2 + pstn[\"y\"]**2)**0.5)))"
   ]
  },
  {
   "cell_type": "code",
   "execution_count": null,
   "metadata": {},
   "outputs": [],
   "source": []
  }
 ],
 "metadata": {
  "kernelspec": {
   "display_name": "Python 3",
   "language": "python",
   "name": "python3"
  },
  "language_info": {
   "codemirror_mode": {
    "name": "ipython",
    "version": 3
   },
   "file_extension": ".py",
   "mimetype": "text/x-python",
   "name": "python",
   "nbconvert_exporter": "python",
   "pygments_lexer": "ipython3",
   "version": "3.7.6"
  }
 },
 "nbformat": 4,
 "nbformat_minor": 4
}
